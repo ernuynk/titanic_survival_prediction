{
 "cells": [
  {
   "cell_type": "markdown",
   "metadata": {},
   "source": [
    "### Survival of Titanic Passengers\n",
    "\n",
    "Problem Statement: </br>\n",
    "\n",
    "The Titanic dataset provides information on the fate of the passengers on the Titanic, summarized according to economic status, sex, age and survival. </br>\n",
    "Our task is to predict the survival of the Titanic passengers.. Let's install the libraries we need.."
   ]
  },
  {
   "cell_type": "code",
   "execution_count": 47,
   "metadata": {},
   "outputs": [],
   "source": [
    "import pandas as pd\n",
    "import numpy as np\n",
    "import matplotlib\n",
    "import matplotlib.pyplot as plt\n",
    "from pandas.plotting import scatter_matrix\n",
    "%matplotlib inline\n",
    "\n",
    "import seaborn as sns\n",
    "sns.set(style=\"white\", color_codes = True)\n",
    "sns.set(font_scale = 1.5)\n",
    "\n",
    "from sklearn.linear_model import LogisticRegression\n",
    "from sklearn.model_selection import train_test_split\n",
    "\n",
    "from sklearn.metrics import confusion_matrix\n",
    "from sklearn.metrics import classification_report\n",
    "from sklearn.metrics import accuracy_score\n",
    "from sklearn.metrics import precision_score\n",
    "from sklearn.metrics import recall_score\n",
    "from sklearn.metrics import f1_score\n",
    "from sklearn import metrics"
   ]
  },
  {
   "cell_type": "code",
   "execution_count": 14,
   "metadata": {},
   "outputs": [
    {
     "data": {
      "text/html": [
       "<div>\n",
       "<style scoped>\n",
       "    .dataframe tbody tr th:only-of-type {\n",
       "        vertical-align: middle;\n",
       "    }\n",
       "\n",
       "    .dataframe tbody tr th {\n",
       "        vertical-align: top;\n",
       "    }\n",
       "\n",
       "    .dataframe thead th {\n",
       "        text-align: right;\n",
       "    }\n",
       "</style>\n",
       "<table border=\"1\" class=\"dataframe\">\n",
       "  <thead>\n",
       "    <tr style=\"text-align: right;\">\n",
       "      <th></th>\n",
       "      <th>PassengerId</th>\n",
       "      <th>Survived</th>\n",
       "      <th>Pclass</th>\n",
       "      <th>Name</th>\n",
       "      <th>Sex</th>\n",
       "      <th>Age</th>\n",
       "      <th>SibSp</th>\n",
       "      <th>Parch</th>\n",
       "      <th>Ticket</th>\n",
       "      <th>Fare</th>\n",
       "      <th>Cabin</th>\n",
       "      <th>Embarked</th>\n",
       "    </tr>\n",
       "  </thead>\n",
       "  <tbody>\n",
       "    <tr>\n",
       "      <th>0</th>\n",
       "      <td>1</td>\n",
       "      <td>0</td>\n",
       "      <td>3</td>\n",
       "      <td>Braund, Mr. Owen Harris</td>\n",
       "      <td>male</td>\n",
       "      <td>22.0</td>\n",
       "      <td>1</td>\n",
       "      <td>0</td>\n",
       "      <td>A/5 21171</td>\n",
       "      <td>7.2500</td>\n",
       "      <td>NaN</td>\n",
       "      <td>S</td>\n",
       "    </tr>\n",
       "    <tr>\n",
       "      <th>1</th>\n",
       "      <td>2</td>\n",
       "      <td>1</td>\n",
       "      <td>1</td>\n",
       "      <td>Cumings, Mrs. John Bradley (Florence Briggs Th...</td>\n",
       "      <td>female</td>\n",
       "      <td>38.0</td>\n",
       "      <td>1</td>\n",
       "      <td>0</td>\n",
       "      <td>PC 17599</td>\n",
       "      <td>71.2833</td>\n",
       "      <td>C85</td>\n",
       "      <td>C</td>\n",
       "    </tr>\n",
       "    <tr>\n",
       "      <th>2</th>\n",
       "      <td>3</td>\n",
       "      <td>1</td>\n",
       "      <td>3</td>\n",
       "      <td>Heikkinen, Miss. Laina</td>\n",
       "      <td>female</td>\n",
       "      <td>26.0</td>\n",
       "      <td>0</td>\n",
       "      <td>0</td>\n",
       "      <td>STON/O2. 3101282</td>\n",
       "      <td>7.9250</td>\n",
       "      <td>NaN</td>\n",
       "      <td>S</td>\n",
       "    </tr>\n",
       "    <tr>\n",
       "      <th>3</th>\n",
       "      <td>4</td>\n",
       "      <td>1</td>\n",
       "      <td>1</td>\n",
       "      <td>Futrelle, Mrs. Jacques Heath (Lily May Peel)</td>\n",
       "      <td>female</td>\n",
       "      <td>35.0</td>\n",
       "      <td>1</td>\n",
       "      <td>0</td>\n",
       "      <td>113803</td>\n",
       "      <td>53.1000</td>\n",
       "      <td>C123</td>\n",
       "      <td>S</td>\n",
       "    </tr>\n",
       "    <tr>\n",
       "      <th>4</th>\n",
       "      <td>5</td>\n",
       "      <td>0</td>\n",
       "      <td>3</td>\n",
       "      <td>Allen, Mr. William Henry</td>\n",
       "      <td>male</td>\n",
       "      <td>35.0</td>\n",
       "      <td>0</td>\n",
       "      <td>0</td>\n",
       "      <td>373450</td>\n",
       "      <td>8.0500</td>\n",
       "      <td>NaN</td>\n",
       "      <td>S</td>\n",
       "    </tr>\n",
       "  </tbody>\n",
       "</table>\n",
       "</div>"
      ],
      "text/plain": [
       "   PassengerId  Survived  Pclass  \\\n",
       "0            1         0       3   \n",
       "1            2         1       1   \n",
       "2            3         1       3   \n",
       "3            4         1       1   \n",
       "4            5         0       3   \n",
       "\n",
       "                                                Name     Sex   Age  SibSp  \\\n",
       "0                            Braund, Mr. Owen Harris    male  22.0      1   \n",
       "1  Cumings, Mrs. John Bradley (Florence Briggs Th...  female  38.0      1   \n",
       "2                             Heikkinen, Miss. Laina  female  26.0      0   \n",
       "3       Futrelle, Mrs. Jacques Heath (Lily May Peel)  female  35.0      1   \n",
       "4                           Allen, Mr. William Henry    male  35.0      0   \n",
       "\n",
       "   Parch            Ticket     Fare Cabin Embarked  \n",
       "0      0         A/5 21171   7.2500   NaN        S  \n",
       "1      0          PC 17599  71.2833   C85        C  \n",
       "2      0  STON/O2. 3101282   7.9250   NaN        S  \n",
       "3      0            113803  53.1000  C123        S  \n",
       "4      0            373450   8.0500   NaN        S  "
      ]
     },
     "execution_count": 14,
     "metadata": {},
     "output_type": "execute_result"
    }
   ],
   "source": [
    "df_train = pd.read_csv(\"train.csv\")\n",
    "df_train.head()"
   ]
  },
  {
   "cell_type": "code",
   "execution_count": 15,
   "metadata": {},
   "outputs": [
    {
     "data": {
      "text/plain": [
       "(891, 12)"
      ]
     },
     "execution_count": 15,
     "metadata": {},
     "output_type": "execute_result"
    }
   ],
   "source": [
    "df_train.shape"
   ]
  },
  {
   "cell_type": "markdown",
   "metadata": {},
   "source": [
    "As we see, we have 891 samples and 12 features/columns. Now let's check how many passengers are survived (as 0/1)"
   ]
  },
  {
   "cell_type": "code",
   "execution_count": 12,
   "metadata": {},
   "outputs": [
    {
     "data": {
      "text/plain": [
       "0    549\n",
       "1    342\n",
       "Name: Survived, dtype: int64"
      ]
     },
     "execution_count": 12,
     "metadata": {},
     "output_type": "execute_result"
    }
   ],
   "source": [
    "df_train.Survived.value_counts()"
   ]
  },
  {
   "cell_type": "markdown",
   "metadata": {},
   "source": [
    "The 342 passengers were survived and 549 are not.. </br>\n",
    "I need to check the \"Sex\" and \"Embarked\" distrubition according to sub-titles.."
   ]
  },
  {
   "cell_type": "code",
   "execution_count": 16,
   "metadata": {},
   "outputs": [
    {
     "data": {
      "text/plain": [
       "male      577\n",
       "female    314\n",
       "Name: Sex, dtype: int64"
      ]
     },
     "execution_count": 16,
     "metadata": {},
     "output_type": "execute_result"
    }
   ],
   "source": [
    "df_train.Sex.value_counts()"
   ]
  },
  {
   "cell_type": "code",
   "execution_count": 17,
   "metadata": {},
   "outputs": [
    {
     "data": {
      "text/plain": [
       "S    644\n",
       "C    168\n",
       "Q     77\n",
       "Name: Embarked, dtype: int64"
      ]
     },
     "execution_count": 17,
     "metadata": {},
     "output_type": "execute_result"
    }
   ],
   "source": [
    "df_train.Embarked.value_counts()"
   ]
  },
  {
   "cell_type": "markdown",
   "metadata": {},
   "source": [
    "As you see the ratio of sex about passengers, Male quantities are more then Female. </br>\n",
    "Also you can see the \"Embarked\" details of passengers.. These abbriviations are;\n",
    "\n",
    "* *S = Southampton*\n",
    "* *C = Cherbourg*\n",
    "* *Q = Queenstown*\n",
    "\n",
    "Now we may check to \"Missing Values\" in the our datasets.."
   ]
  },
  {
   "cell_type": "code",
   "execution_count": 24,
   "metadata": {},
   "outputs": [
    {
     "data": {
      "text/plain": [
       "PassengerId      0\n",
       "Survived         0\n",
       "Pclass           0\n",
       "Name             0\n",
       "Sex              0\n",
       "Age            177\n",
       "SibSp            0\n",
       "Parch            0\n",
       "Ticket           0\n",
       "Fare             0\n",
       "Cabin          687\n",
       "Embarked         2\n",
       "dtype: int64"
      ]
     },
     "execution_count": 24,
     "metadata": {},
     "output_type": "execute_result"
    }
   ],
   "source": [
    "df_train.isnull().sum()"
   ]
  },
  {
   "cell_type": "markdown",
   "metadata": {},
   "source": [
    "\"Cabin\" feature has a lot missing value (687). This value is approximately corresponds %78 of the all samples. This is high value! </br> \n",
    "Let's think about how we can deal with these missing values.."
   ]
  },
  {
   "cell_type": "code",
   "execution_count": 26,
   "metadata": {},
   "outputs": [
    {
     "data": {
      "text/html": [
       "<div>\n",
       "<style scoped>\n",
       "    .dataframe tbody tr th:only-of-type {\n",
       "        vertical-align: middle;\n",
       "    }\n",
       "\n",
       "    .dataframe tbody tr th {\n",
       "        vertical-align: top;\n",
       "    }\n",
       "\n",
       "    .dataframe thead th {\n",
       "        text-align: right;\n",
       "    }\n",
       "</style>\n",
       "<table border=\"1\" class=\"dataframe\">\n",
       "  <thead>\n",
       "    <tr style=\"text-align: right;\">\n",
       "      <th></th>\n",
       "      <th>Survived</th>\n",
       "      <th>Pclass</th>\n",
       "      <th>Sex</th>\n",
       "      <th>Age</th>\n",
       "      <th>SibSp</th>\n",
       "      <th>Parch</th>\n",
       "      <th>Fare</th>\n",
       "      <th>Embarked</th>\n",
       "    </tr>\n",
       "  </thead>\n",
       "  <tbody>\n",
       "    <tr>\n",
       "      <th>0</th>\n",
       "      <td>0</td>\n",
       "      <td>3</td>\n",
       "      <td>male</td>\n",
       "      <td>22.0</td>\n",
       "      <td>1</td>\n",
       "      <td>0</td>\n",
       "      <td>7.2500</td>\n",
       "      <td>S</td>\n",
       "    </tr>\n",
       "    <tr>\n",
       "      <th>1</th>\n",
       "      <td>1</td>\n",
       "      <td>1</td>\n",
       "      <td>female</td>\n",
       "      <td>38.0</td>\n",
       "      <td>1</td>\n",
       "      <td>0</td>\n",
       "      <td>71.2833</td>\n",
       "      <td>C</td>\n",
       "    </tr>\n",
       "    <tr>\n",
       "      <th>2</th>\n",
       "      <td>1</td>\n",
       "      <td>3</td>\n",
       "      <td>female</td>\n",
       "      <td>26.0</td>\n",
       "      <td>0</td>\n",
       "      <td>0</td>\n",
       "      <td>7.9250</td>\n",
       "      <td>S</td>\n",
       "    </tr>\n",
       "    <tr>\n",
       "      <th>3</th>\n",
       "      <td>1</td>\n",
       "      <td>1</td>\n",
       "      <td>female</td>\n",
       "      <td>35.0</td>\n",
       "      <td>1</td>\n",
       "      <td>0</td>\n",
       "      <td>53.1000</td>\n",
       "      <td>S</td>\n",
       "    </tr>\n",
       "    <tr>\n",
       "      <th>4</th>\n",
       "      <td>0</td>\n",
       "      <td>3</td>\n",
       "      <td>male</td>\n",
       "      <td>35.0</td>\n",
       "      <td>0</td>\n",
       "      <td>0</td>\n",
       "      <td>8.0500</td>\n",
       "      <td>S</td>\n",
       "    </tr>\n",
       "  </tbody>\n",
       "</table>\n",
       "</div>"
      ],
      "text/plain": [
       "   Survived  Pclass     Sex   Age  SibSp  Parch     Fare Embarked\n",
       "0         0       3    male  22.0      1      0   7.2500        S\n",
       "1         1       1  female  38.0      1      0  71.2833        C\n",
       "2         1       3  female  26.0      0      0   7.9250        S\n",
       "3         1       1  female  35.0      1      0  53.1000        S\n",
       "4         0       3    male  35.0      0      0   8.0500        S"
      ]
     },
     "execution_count": 26,
     "metadata": {},
     "output_type": "execute_result"
    }
   ],
   "source": [
    "df_train = df_train.drop(['PassengerId', 'Name', 'Ticket', 'Cabin'], axis=1)\n",
    "df_train.head()"
   ]
  },
  {
   "cell_type": "markdown",
   "metadata": {},
   "source": [
    "Let's try to find out each missing value of Age with Function"
   ]
  },
  {
   "cell_type": "code",
   "execution_count": 30,
   "metadata": {},
   "outputs": [],
   "source": [
    "def age_approx(cols):\n",
    "    Age = cols[0]\n",
    "    Pclass = cols[1]\n",
    "\n",
    "    if pd.isnull(Age):\n",
    "        if Pclass == 1:\n",
    "            return 37\n",
    "        elif Pclass == 2:\n",
    "            return 29 \n",
    "        else: \n",
    "            return 24\n",
    "    else:\n",
    "        return Age"
   ]
  },
  {
   "cell_type": "code",
   "execution_count": 29,
   "metadata": {},
   "outputs": [
    {
     "data": {
      "text/html": [
       "<div>\n",
       "<style scoped>\n",
       "    .dataframe tbody tr th:only-of-type {\n",
       "        vertical-align: middle;\n",
       "    }\n",
       "\n",
       "    .dataframe tbody tr th {\n",
       "        vertical-align: top;\n",
       "    }\n",
       "\n",
       "    .dataframe thead th {\n",
       "        text-align: right;\n",
       "    }\n",
       "</style>\n",
       "<table border=\"1\" class=\"dataframe\">\n",
       "  <thead>\n",
       "    <tr style=\"text-align: right;\">\n",
       "      <th></th>\n",
       "      <th>Survived</th>\n",
       "      <th>Age</th>\n",
       "      <th>SibSp</th>\n",
       "      <th>Parch</th>\n",
       "      <th>Fare</th>\n",
       "    </tr>\n",
       "    <tr>\n",
       "      <th>Pclass</th>\n",
       "      <th></th>\n",
       "      <th></th>\n",
       "      <th></th>\n",
       "      <th></th>\n",
       "      <th></th>\n",
       "    </tr>\n",
       "  </thead>\n",
       "  <tbody>\n",
       "    <tr>\n",
       "      <th>1</th>\n",
       "      <td>0.629630</td>\n",
       "      <td>38.233441</td>\n",
       "      <td>0.416667</td>\n",
       "      <td>0.356481</td>\n",
       "      <td>84.154687</td>\n",
       "    </tr>\n",
       "    <tr>\n",
       "      <th>2</th>\n",
       "      <td>0.472826</td>\n",
       "      <td>29.877630</td>\n",
       "      <td>0.402174</td>\n",
       "      <td>0.380435</td>\n",
       "      <td>20.662183</td>\n",
       "    </tr>\n",
       "    <tr>\n",
       "      <th>3</th>\n",
       "      <td>0.242363</td>\n",
       "      <td>25.140620</td>\n",
       "      <td>0.615071</td>\n",
       "      <td>0.393075</td>\n",
       "      <td>13.675550</td>\n",
       "    </tr>\n",
       "  </tbody>\n",
       "</table>\n",
       "</div>"
      ],
      "text/plain": [
       "        Survived        Age     SibSp     Parch       Fare\n",
       "Pclass                                                    \n",
       "1       0.629630  38.233441  0.416667  0.356481  84.154687\n",
       "2       0.472826  29.877630  0.402174  0.380435  20.662183\n",
       "3       0.242363  25.140620  0.615071  0.393075  13.675550"
      ]
     },
     "execution_count": 29,
     "metadata": {},
     "output_type": "execute_result"
    }
   ],
   "source": [
    "df_train.groupby([\"Pclass\"]).mean()"
   ]
  },
  {
   "cell_type": "markdown",
   "metadata": {},
   "source": [
    "We can use the Pclass for each null values of Age"
   ]
  },
  {
   "cell_type": "code",
   "execution_count": 31,
   "metadata": {},
   "outputs": [],
   "source": [
    "df_train[\"Age\"] = df_train[[\"Age\", \"Pclass\"]].apply(age_approx, axis=1)"
   ]
  },
  {
   "cell_type": "markdown",
   "metadata": {},
   "source": [
    "Let's verify the null values after transformation.."
   ]
  },
  {
   "cell_type": "code",
   "execution_count": 32,
   "metadata": {},
   "outputs": [
    {
     "data": {
      "text/plain": [
       "Survived    0\n",
       "Pclass      0\n",
       "Sex         0\n",
       "Age         0\n",
       "SibSp       0\n",
       "Parch       0\n",
       "Fare        0\n",
       "Embarked    2\n",
       "dtype: int64"
      ]
     },
     "execution_count": 32,
     "metadata": {},
     "output_type": "execute_result"
    }
   ],
   "source": [
    "df_train.isnull().sum()"
   ]
  },
  {
   "cell_type": "markdown",
   "metadata": {},
   "source": [
    "We have just 2 missing values on the Embarked column. This is so less when we're thinking the size of all dataset. That's why, we can drop it."
   ]
  },
  {
   "cell_type": "code",
   "execution_count": 34,
   "metadata": {},
   "outputs": [
    {
     "data": {
      "text/plain": [
       "Survived    0\n",
       "Pclass      0\n",
       "Sex         0\n",
       "Age         0\n",
       "SibSp       0\n",
       "Parch       0\n",
       "Fare        0\n",
       "Embarked    0\n",
       "dtype: int64"
      ]
     },
     "execution_count": 34,
     "metadata": {},
     "output_type": "execute_result"
    }
   ],
   "source": [
    "df_train.dropna(inplace=True)\n",
    "df_train.isnull().sum()"
   ]
  },
  {
   "cell_type": "code",
   "execution_count": 35,
   "metadata": {},
   "outputs": [
    {
     "data": {
      "text/plain": [
       "Survived      int64\n",
       "Pclass        int64\n",
       "Sex          object\n",
       "Age         float64\n",
       "SibSp         int64\n",
       "Parch         int64\n",
       "Fare        float64\n",
       "Embarked     object\n",
       "dtype: object"
      ]
     },
     "execution_count": 35,
     "metadata": {},
     "output_type": "execute_result"
    }
   ],
   "source": [
    "df_train.dtypes"
   ]
  },
  {
   "cell_type": "markdown",
   "metadata": {},
   "source": [
    "As you see there are two categorical features (Age and Embarked) <br>\n",
    "We can handle to these datas with dummy values"
   ]
  },
  {
   "cell_type": "code",
   "execution_count": 36,
   "metadata": {},
   "outputs": [],
   "source": [
    "df_train_dummied = pd.get_dummies(df_train, columns=[\"Sex\"])"
   ]
  },
  {
   "cell_type": "code",
   "execution_count": 37,
   "metadata": {},
   "outputs": [],
   "source": [
    "df_train_dummied = pd.get_dummies(df_train_dummied, columns=[\"Embarked\"])"
   ]
  },
  {
   "cell_type": "code",
   "execution_count": 38,
   "metadata": {},
   "outputs": [
    {
     "data": {
      "text/html": [
       "<div>\n",
       "<style scoped>\n",
       "    .dataframe tbody tr th:only-of-type {\n",
       "        vertical-align: middle;\n",
       "    }\n",
       "\n",
       "    .dataframe tbody tr th {\n",
       "        vertical-align: top;\n",
       "    }\n",
       "\n",
       "    .dataframe thead th {\n",
       "        text-align: right;\n",
       "    }\n",
       "</style>\n",
       "<table border=\"1\" class=\"dataframe\">\n",
       "  <thead>\n",
       "    <tr style=\"text-align: right;\">\n",
       "      <th></th>\n",
       "      <th>Survived</th>\n",
       "      <th>Pclass</th>\n",
       "      <th>Age</th>\n",
       "      <th>SibSp</th>\n",
       "      <th>Parch</th>\n",
       "      <th>Fare</th>\n",
       "      <th>Sex_female</th>\n",
       "      <th>Sex_male</th>\n",
       "      <th>Embarked_C</th>\n",
       "      <th>Embarked_Q</th>\n",
       "      <th>Embarked_S</th>\n",
       "    </tr>\n",
       "  </thead>\n",
       "  <tbody>\n",
       "    <tr>\n",
       "      <th>0</th>\n",
       "      <td>0</td>\n",
       "      <td>3</td>\n",
       "      <td>22.0</td>\n",
       "      <td>1</td>\n",
       "      <td>0</td>\n",
       "      <td>7.2500</td>\n",
       "      <td>0</td>\n",
       "      <td>1</td>\n",
       "      <td>0</td>\n",
       "      <td>0</td>\n",
       "      <td>1</td>\n",
       "    </tr>\n",
       "    <tr>\n",
       "      <th>1</th>\n",
       "      <td>1</td>\n",
       "      <td>1</td>\n",
       "      <td>38.0</td>\n",
       "      <td>1</td>\n",
       "      <td>0</td>\n",
       "      <td>71.2833</td>\n",
       "      <td>1</td>\n",
       "      <td>0</td>\n",
       "      <td>1</td>\n",
       "      <td>0</td>\n",
       "      <td>0</td>\n",
       "    </tr>\n",
       "    <tr>\n",
       "      <th>2</th>\n",
       "      <td>1</td>\n",
       "      <td>3</td>\n",
       "      <td>26.0</td>\n",
       "      <td>0</td>\n",
       "      <td>0</td>\n",
       "      <td>7.9250</td>\n",
       "      <td>1</td>\n",
       "      <td>0</td>\n",
       "      <td>0</td>\n",
       "      <td>0</td>\n",
       "      <td>1</td>\n",
       "    </tr>\n",
       "    <tr>\n",
       "      <th>3</th>\n",
       "      <td>1</td>\n",
       "      <td>1</td>\n",
       "      <td>35.0</td>\n",
       "      <td>1</td>\n",
       "      <td>0</td>\n",
       "      <td>53.1000</td>\n",
       "      <td>1</td>\n",
       "      <td>0</td>\n",
       "      <td>0</td>\n",
       "      <td>0</td>\n",
       "      <td>1</td>\n",
       "    </tr>\n",
       "    <tr>\n",
       "      <th>4</th>\n",
       "      <td>0</td>\n",
       "      <td>3</td>\n",
       "      <td>35.0</td>\n",
       "      <td>0</td>\n",
       "      <td>0</td>\n",
       "      <td>8.0500</td>\n",
       "      <td>0</td>\n",
       "      <td>1</td>\n",
       "      <td>0</td>\n",
       "      <td>0</td>\n",
       "      <td>1</td>\n",
       "    </tr>\n",
       "  </tbody>\n",
       "</table>\n",
       "</div>"
      ],
      "text/plain": [
       "   Survived  Pclass   Age  SibSp  Parch     Fare  Sex_female  Sex_male  \\\n",
       "0         0       3  22.0      1      0   7.2500           0         1   \n",
       "1         1       1  38.0      1      0  71.2833           1         0   \n",
       "2         1       3  26.0      0      0   7.9250           1         0   \n",
       "3         1       1  35.0      1      0  53.1000           1         0   \n",
       "4         0       3  35.0      0      0   8.0500           0         1   \n",
       "\n",
       "   Embarked_C  Embarked_Q  Embarked_S  \n",
       "0           0           0           1  \n",
       "1           1           0           0  \n",
       "2           0           0           1  \n",
       "3           0           0           1  \n",
       "4           0           0           1  "
      ]
     },
     "execution_count": 38,
     "metadata": {},
     "output_type": "execute_result"
    }
   ],
   "source": [
    "df_train_dummied.head()"
   ]
  },
  {
   "cell_type": "markdown",
   "metadata": {},
   "source": [
    "Now we can check the heatmap for correlation of the features.."
   ]
  },
  {
   "cell_type": "code",
   "execution_count": 40,
   "metadata": {},
   "outputs": [
    {
     "data": {
      "text/plain": [
       "<AxesSubplot:>"
      ]
     },
     "execution_count": 40,
     "metadata": {},
     "output_type": "execute_result"
    },
    {
     "data": {
      "image/png": "[encoded data removed]",
      "text/plain": [
       "<Figure size 432x288 with 2 Axes>"
      ]
     },
     "metadata": {},
     "output_type": "display_data"
    }
   ],
   "source": [
    "plt.figure(figsize=(6,4))\n",
    "sns.heatmap(df_train_dummied.corr())"
   ]
  },
  {
   "cell_type": "markdown",
   "metadata": {},
   "source": [
    "We can notice the strong correlation between Survived and Sex_Female variables <br>\n",
    "Now let's create classifier for predict survival"
   ]
  },
  {
   "cell_type": "code",
   "execution_count": 42,
   "metadata": {},
   "outputs": [],
   "source": [
    "used_features = [\"Pclass\", \"Age\", \"SibSp\", \"Parch\", \"Sex_female\", \"Sex_male\", \"Embarked_C\", \"Embarked_Q\", \"Embarked_S\"]\n",
    "\n",
    "X = df_train_dummied[used_features].values\n",
    "y = df_train_dummied[\"Survived\"]"
   ]
  },
  {
   "cell_type": "markdown",
   "metadata": {},
   "source": [
    "We adjusted the target as \"Survived\" and now we can split the datas"
   ]
  },
  {
   "cell_type": "code",
   "execution_count": 44,
   "metadata": {},
   "outputs": [],
   "source": [
    "X_train, X_test, y_train, y_test = train_test_split(X, y, test_size=0.3, random_state=1)"
   ]
  },
  {
   "cell_type": "code",
   "execution_count": 45,
   "metadata": {},
   "outputs": [
    {
     "name": "stdout",
     "output_type": "stream",
     "text": [
      "(622, 9)\n",
      "(267, 9)\n",
      "(622,)\n",
      "(267,)\n"
     ]
    }
   ],
   "source": [
    "print(X_train.shape)\n",
    "print(X_test.shape)\n",
    "print(y_train.shape)\n",
    "print(y_test.shape)"
   ]
  },
  {
   "cell_type": "code",
   "execution_count": 48,
   "metadata": {},
   "outputs": [],
   "source": [
    "LogReg = LogisticRegression()"
   ]
  },
  {
   "cell_type": "code",
   "execution_count": 49,
   "metadata": {},
   "outputs": [
    {
     "name": "stderr",
     "output_type": "stream",
     "text": [
      "C:\\Users\\Eren\\anaconda3\\lib\\site-packages\\sklearn\\linear_model\\_logistic.py:763: ConvergenceWarning: lbfgs failed to converge (status=1):\n",
      "STOP: TOTAL NO. of ITERATIONS REACHED LIMIT.\n",
      "\n",
      "Increase the number of iterations (max_iter) or scale the data as shown in:\n",
      "    https://scikit-learn.org/stable/modules/preprocessing.html\n",
      "Please also refer to the documentation for alternative solver options:\n",
      "    https://scikit-learn.org/stable/modules/linear_model.html#logistic-regression\n",
      "  n_iter_i = _check_optimize_result(\n"
     ]
    },
    {
     "data": {
      "text/plain": [
       "LogisticRegression()"
      ]
     },
     "execution_count": 49,
     "metadata": {},
     "output_type": "execute_result"
    }
   ],
   "source": [
    "LogReg.fit(X_train, y_train)"
   ]
  },
  {
   "cell_type": "code",
   "execution_count": 50,
   "metadata": {},
   "outputs": [],
   "source": [
    "y_pred = LogReg.predict(X_test)"
   ]
  },
  {
   "cell_type": "code",
   "execution_count": 51,
   "metadata": {},
   "outputs": [
    {
     "data": {
      "text/plain": [
       "array([[143,  23],\n",
       "       [ 22,  79]], dtype=int64)"
      ]
     },
     "execution_count": 51,
     "metadata": {},
     "output_type": "execute_result"
    }
   ],
   "source": [
    "metrics.confusion_matrix(y_test, y_pred)"
   ]
  },
  {
   "cell_type": "markdown",
   "metadata": {},
   "source": [
    "Let's interpret these results.. <br>\n",
    "Out of the 161 instances of not survived. The classifier predicted correctly 143 of them. <br>\n",
    "Out of the 106 actual instances of survied. The classifier predicted correctly 83 of them. <br>\n",
    "\n",
    "Now we'll check accuracy with the accuracy_score of metrics"
   ]
  },
  {
   "cell_type": "code",
   "execution_count": 52,
   "metadata": {},
   "outputs": [
    {
     "data": {
      "text/plain": [
       "0.8314606741573034"
      ]
     },
     "execution_count": 52,
     "metadata": {},
     "output_type": "execute_result"
    }
   ],
   "source": [
    "metrics.accuracy_score(y_test, y_pred)"
   ]
  },
  {
   "cell_type": "markdown",
   "metadata": {},
   "source": [
    "Our algorithm has an accuracy of **%83** <br>\n",
    "That means, our model can say the 83 passengers survived or not of the each 100 of them. <br>\n",
    "\n",
    "Let's check this performance with the confusion_matrix\n"
   ]
  },
  {
   "cell_type": "code",
   "execution_count": 53,
   "metadata": {},
   "outputs": [
    {
     "name": "stdout",
     "output_type": "stream",
     "text": [
      "              precision    recall  f1-score   support\n",
      "\n",
      "           0       0.87      0.86      0.86       166\n",
      "           1       0.77      0.78      0.78       101\n",
      "\n",
      "    accuracy                           0.83       267\n",
      "   macro avg       0.82      0.82      0.82       267\n",
      "weighted avg       0.83      0.83      0.83       267\n",
      "\n"
     ]
    }
   ],
   "source": [
    "print(classification_report(y_test, y_pred))"
   ]
  },
  {
   "cell_type": "markdown",
   "metadata": {},
   "source": [
    "We can further check out algorithms predicted probabilities, using the x_test values"
   ]
  },
  {
   "cell_type": "code",
   "execution_count": 54,
   "metadata": {},
   "outputs": [
    {
     "data": {
      "text/plain": [
       "Index(['Pclass', 'Age', 'SibSp', 'Parch', 'Sex_female', 'Sex_male',\n",
       "       'Embarked_C', 'Embarked_Q', 'Embarked_S'],\n",
       "      dtype='object')"
      ]
     },
     "execution_count": 54,
     "metadata": {},
     "output_type": "execute_result"
    }
   ],
   "source": [
    "df_train_dummied[used_features].columns"
   ]
  },
  {
   "cell_type": "markdown",
   "metadata": {},
   "source": [
    "The first column is the probability that the entry has not survived label <br>\n",
    "And the second column is the probability that the entry has the survived label.."
   ]
  },
  {
   "cell_type": "code",
   "execution_count": 55,
   "metadata": {},
   "outputs": [
    {
     "data": {
      "text/plain": [
       "array([[0.26493799, 0.73506201],\n",
       "       [0.39609163, 0.60390837],\n",
       "       [0.94720321, 0.05279679],\n",
       "       [0.25937855, 0.74062145],\n",
       "       [0.94391572, 0.05608428],\n",
       "       [0.13477162, 0.86522838],\n",
       "       [0.33268393, 0.66731607],\n",
       "       [0.51813457, 0.48186543],\n",
       "       [0.78232369, 0.21767631],\n",
       "       [0.40658216, 0.59341784],\n",
       "       [0.73999523, 0.26000477],\n",
       "       [0.21209008, 0.78790992],\n",
       "       [0.74878044, 0.25121956],\n",
       "       [0.14568359, 0.85431641],\n",
       "       [0.86456084, 0.13543916],\n",
       "       [0.36886436, 0.63113564],\n",
       "       [0.89370373, 0.10629627],\n",
       "       [0.29703023, 0.70296977],\n",
       "       [0.17601675, 0.82398325],\n",
       "       [0.40001768, 0.59998232],\n",
       "       [0.90474941, 0.09525059],\n",
       "       [0.55315361, 0.44684639],\n",
       "       [0.86405505, 0.13594495],\n",
       "       [0.93725914, 0.06274086],\n",
       "       [0.51735016, 0.48264984],\n",
       "       [0.51476565, 0.48523435],\n",
       "       [0.03932607, 0.96067393],\n",
       "       [0.8691477 , 0.1308523 ],\n",
       "       [0.89786962, 0.10213038],\n",
       "       [0.32492204, 0.67507796],\n",
       "       [0.38755478, 0.61244522],\n",
       "       [0.40908143, 0.59091857],\n",
       "       [0.15497267, 0.84502733],\n",
       "       [0.41629906, 0.58370094],\n",
       "       [0.59152727, 0.40847273],\n",
       "       [0.16567007, 0.83432993],\n",
       "       [0.65714867, 0.34285133],\n",
       "       [0.87360194, 0.12639806],\n",
       "       [0.24322749, 0.75677251],\n",
       "       [0.57698477, 0.42301523],\n",
       "       [0.4368743 , 0.5631257 ],\n",
       "       [0.91103382, 0.08896618],\n",
       "       [0.3180601 , 0.6819399 ],\n",
       "       [0.87360194, 0.12639806],\n",
       "       [0.79639314, 0.20360686],\n",
       "       [0.23515324, 0.76484676],\n",
       "       [0.1703264 , 0.8296736 ],\n",
       "       [0.81601315, 0.18398685],\n",
       "       [0.06088711, 0.93911289],\n",
       "       [0.92341061, 0.07658939],\n",
       "       [0.87360194, 0.12639806],\n",
       "       [0.42842636, 0.57157364],\n",
       "       [0.88372941, 0.11627059],\n",
       "       [0.09122888, 0.90877112],\n",
       "       [0.74878044, 0.25121956],\n",
       "       [0.07080266, 0.92919734],\n",
       "       [0.7774898 , 0.2225102 ],\n",
       "       [0.95171859, 0.04828141],\n",
       "       [0.70133222, 0.29866778],\n",
       "       [0.93686133, 0.06313867],\n",
       "       [0.81504583, 0.18495417],\n",
       "       [0.85983911, 0.14016089],\n",
       "       [0.59152727, 0.40847273],\n",
       "       [0.87360194, 0.12639806],\n",
       "       [0.42842636, 0.57157364],\n",
       "       [0.2359866 , 0.7640134 ],\n",
       "       [0.87360194, 0.12639806],\n",
       "       [0.91138275, 0.08861725],\n",
       "       [0.84493672, 0.15506328],\n",
       "       [0.05454512, 0.94545488],\n",
       "       [0.8644788 , 0.1355212 ],\n",
       "       [0.05663141, 0.94336859],\n",
       "       [0.65064112, 0.34935888],\n",
       "       [0.85983911, 0.14016089],\n",
       "       [0.31389107, 0.68610893],\n",
       "       [0.13477162, 0.86522838],\n",
       "       [0.84017732, 0.15982268],\n",
       "       [0.92356022, 0.07643978],\n",
       "       [0.82599042, 0.17400958],\n",
       "       [0.83324479, 0.16675521],\n",
       "       [0.84017732, 0.15982268],\n",
       "       [0.86456084, 0.13543916],\n",
       "       [0.03932607, 0.96067393],\n",
       "       [0.06012624, 0.93987376],\n",
       "       [0.76343555, 0.23656445],\n",
       "       [0.61999263, 0.38000737],\n",
       "       [0.43780602, 0.56219398],\n",
       "       [0.42904124, 0.57095876],\n",
       "       [0.87360194, 0.12639806],\n",
       "       [0.36886436, 0.63113564],\n",
       "       [0.8976753 , 0.1023247 ],\n",
       "       [0.32492204, 0.67507796],\n",
       "       [0.93405485, 0.06594515],\n",
       "       [0.78153456, 0.21846544],\n",
       "       [0.24672437, 0.75327563],\n",
       "       [0.83898059, 0.16101941],\n",
       "       [0.22921431, 0.77078569],\n",
       "       [0.27409008, 0.72590992],\n",
       "       [0.24672437, 0.75327563],\n",
       "       [0.21438853, 0.78561147],\n",
       "       [0.84998263, 0.15001737],\n",
       "       [0.34213021, 0.65786979],\n",
       "       [0.60672377, 0.39327623],\n",
       "       [0.85498039, 0.14501961],\n",
       "       [0.85498039, 0.14501961],\n",
       "       [0.90569143, 0.09430857],\n",
       "       [0.13652878, 0.86347122],\n",
       "       [0.84998263, 0.15001737],\n",
       "       [0.76765945, 0.23234055],\n",
       "       [0.81601315, 0.18398685],\n",
       "       [0.63902245, 0.36097755],\n",
       "       [0.74878044, 0.25121956],\n",
       "       [0.78153456, 0.21846544],\n",
       "       [0.18635627, 0.81364373],\n",
       "       [0.35924589, 0.64075411],\n",
       "       [0.08638488, 0.91361512],\n",
       "       [0.91558913, 0.08441087],\n",
       "       [0.40658216, 0.59341784],\n",
       "       [0.06422002, 0.93577998],\n",
       "       [0.79093774, 0.20906226],\n",
       "       [0.87792584, 0.12207416],\n",
       "       [0.20621672, 0.79378328],\n",
       "       [0.32492204, 0.67507796],\n",
       "       [0.50314488, 0.49685512],\n",
       "       [0.207474  , 0.792526  ],\n",
       "       [0.89206792, 0.10793208],\n",
       "       [0.44438646, 0.55561354],\n",
       "       [0.90941388, 0.09058612],\n",
       "       [0.88212179, 0.11787821],\n",
       "       [0.57600896, 0.42399104],\n",
       "       [0.44595785, 0.55404215],\n",
       "       [0.60672377, 0.39327623],\n",
       "       [0.87895617, 0.12104383],\n",
       "       [0.59152727, 0.40847273],\n",
       "       [0.36886436, 0.63113564],\n",
       "       [0.07077679, 0.92922321],\n",
       "       [0.85983911, 0.14016089],\n",
       "       [0.92617462, 0.07382538],\n",
       "       [0.87360194, 0.12639806],\n",
       "       [0.89013959, 0.10986041],\n",
       "       [0.85906241, 0.14093759],\n",
       "       [0.31434724, 0.68565276],\n",
       "       [0.92341061, 0.07658939],\n",
       "       [0.38805746, 0.61194254],\n",
       "       [0.59152727, 0.40847273],\n",
       "       [0.69280249, 0.30719751],\n",
       "       [0.17993349, 0.82006651],\n",
       "       [0.10715582, 0.89284418],\n",
       "       [0.07887723, 0.92112277],\n",
       "       [0.92945225, 0.07054775],\n",
       "       [0.85689811, 0.14310189],\n",
       "       [0.93633506, 0.06366494],\n",
       "       [0.14232243, 0.85767757],\n",
       "       [0.84998263, 0.15001737],\n",
       "       [0.38060094, 0.61939906],\n",
       "       [0.36886436, 0.63113564],\n",
       "       [0.78987252, 0.21012748],\n",
       "       [0.37151596, 0.62848404],\n",
       "       [0.89013959, 0.10986041],\n",
       "       [0.87360194, 0.12639806],\n",
       "       [0.50314488, 0.49685512],\n",
       "       [0.77053823, 0.22946177],\n",
       "       [0.57600896, 0.42399104],\n",
       "       [0.86990669, 0.13009331],\n",
       "       [0.87289022, 0.12710978],\n",
       "       [0.8341363 , 0.1658637 ],\n",
       "       [0.13677858, 0.86322142],\n",
       "       [0.05960531, 0.94039469],\n",
       "       [0.77822153, 0.22177847],\n",
       "       [0.23643955, 0.76356045],\n",
       "       [0.84998263, 0.15001737],\n",
       "       [0.89890781, 0.10109219],\n",
       "       [0.84017732, 0.15982268],\n",
       "       [0.87360194, 0.12639806],\n",
       "       [0.68090839, 0.31909161],\n",
       "       [0.2922573 , 0.7077427 ],\n",
       "       [0.86456084, 0.13543916],\n",
       "       [0.70959021, 0.29040979],\n",
       "       [0.87360194, 0.12639806],\n",
       "       [0.84998263, 0.15001737],\n",
       "       [0.84017732, 0.15982268],\n",
       "       [0.87360194, 0.12639806],\n",
       "       [0.65268815, 0.34731185],\n",
       "       [0.93212693, 0.06787307],\n",
       "       [0.32492204, 0.67507796],\n",
       "       [0.82514412, 0.17485588],\n",
       "       [0.37973882, 0.62026118],\n",
       "       [0.58189024, 0.41810976],\n",
       "       [0.22732189, 0.77267811],\n",
       "       [0.90474941, 0.09525059],\n",
       "       [0.75538659, 0.24461341],\n",
       "       [0.7168372 , 0.2831628 ],\n",
       "       [0.86456084, 0.13543916],\n",
       "       [0.76381773, 0.23618227],\n",
       "       [0.93661038, 0.06338962],\n",
       "       [0.74756898, 0.25243102],\n",
       "       [0.89871524, 0.10128476],\n",
       "       [0.28834819, 0.71165181],\n",
       "       [0.59152727, 0.40847273],\n",
       "       [0.06590255, 0.93409745],\n",
       "       [0.70182998, 0.29817002],\n",
       "       [0.18281418, 0.81718582],\n",
       "       [0.77903266, 0.22096734],\n",
       "       [0.54861908, 0.45138092],\n",
       "       [0.04765652, 0.95234348],\n",
       "       [0.89013959, 0.10986041],\n",
       "       [0.87578003, 0.12421997],\n",
       "       [0.3215717 , 0.6784283 ],\n",
       "       [0.8105339 , 0.1894661 ],\n",
       "       [0.08798689, 0.91201311],\n",
       "       [0.84017732, 0.15982268],\n",
       "       [0.74123046, 0.25876954],\n",
       "       [0.78153456, 0.21846544],\n",
       "       [0.76765945, 0.23234055],\n",
       "       [0.30941852, 0.69058148],\n",
       "       [0.19470723, 0.80529277],\n",
       "       [0.75618259, 0.24381741],\n",
       "       [0.19317821, 0.80682179],\n",
       "       [0.91454065, 0.08545935],\n",
       "       [0.69202265, 0.30797735],\n",
       "       [0.86990669, 0.13009331],\n",
       "       [0.49721151, 0.50278849],\n",
       "       [0.67079321, 0.32920679],\n",
       "       [0.22115854, 0.77884146],\n",
       "       [0.24276568, 0.75723432],\n",
       "       [0.86456084, 0.13543916],\n",
       "       [0.57489492, 0.42510508],\n",
       "       [0.84017732, 0.15982268],\n",
       "       [0.78824455, 0.21175545],\n",
       "       [0.74925239, 0.25074761],\n",
       "       [0.37973882, 0.62026118],\n",
       "       [0.29409591, 0.70590409],\n",
       "       [0.46692196, 0.53307804],\n",
       "       [0.84017732, 0.15982268],\n",
       "       [0.8976753 , 0.1023247 ],\n",
       "       [0.89034647, 0.10965353],\n",
       "       [0.87360194, 0.12639806],\n",
       "       [0.79852115, 0.20147885],\n",
       "       [0.35553848, 0.64446152],\n",
       "       [0.87792584, 0.12207416],\n",
       "       [0.29703023, 0.70296977],\n",
       "       [0.84017732, 0.15982268],\n",
       "       [0.84998263, 0.15001737],\n",
       "       [0.6712606 , 0.3287394 ],\n",
       "       [0.51592152, 0.48407848],\n",
       "       [0.09862985, 0.90137015],\n",
       "       [0.13368069, 0.86631931],\n",
       "       [0.79707892, 0.20292108],\n",
       "       [0.69157121, 0.30842879],\n",
       "       [0.87383555, 0.12616445],\n",
       "       [0.24165767, 0.75834233],\n",
       "       [0.32492204, 0.67507796],\n",
       "       [0.39702954, 0.60297046],\n",
       "       [0.94105182, 0.05894818],\n",
       "       [0.10909703, 0.89090297],\n",
       "       [0.2256085 , 0.7743915 ],\n",
       "       [0.88212179, 0.11787821],\n",
       "       [0.90474941, 0.09525059],\n",
       "       [0.0395162 , 0.9604838 ],\n",
       "       [0.78153456, 0.21846544],\n",
       "       [0.20130435, 0.79869565],\n",
       "       [0.87410601, 0.12589399],\n",
       "       [0.65771408, 0.34228592],\n",
       "       [0.87360194, 0.12639806],\n",
       "       [0.29409591, 0.70590409],\n",
       "       [0.84017732, 0.15982268],\n",
       "       [0.91195758, 0.08804242]])"
      ]
     },
     "execution_count": 55,
     "metadata": {},
     "output_type": "execute_result"
    }
   ],
   "source": [
    "LogReg.predict_proba(X_test)"
   ]
  },
  {
   "cell_type": "code",
   "execution_count": null,
   "metadata": {},
   "outputs": [],
   "source": []
  }
 ],
 "metadata": {
  "interpreter": {
   "hash": "e87da912ad2b5e5775058a9f5c97e01a91e5d839b3bc57c40a13deb0fbbe78ef"
  },
  "kernelspec": {
   "display_name": "Python 3.9.7 64-bit ('base': conda)",
   "language": "python",
   "name": "python3"
  },
  "language_info": {
   "codemirror_mode": {
    "name": "ipython",
    "version": 3
   },
   "file_extension": ".py",
   "mimetype": "text/x-python",
   "name": "python",
   "nbconvert_exporter": "python",
   "pygments_lexer": "ipython3",
   "version": "3.9.7"
  },
  "orig_nbformat": 4
 },
 "nbformat": 4,
 "nbformat_minor": 2
}
